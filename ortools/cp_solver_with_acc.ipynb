{
 "cells": [
  {
   "cell_type": "code",
   "execution_count": 13,
   "metadata": {},
   "outputs": [],
   "source": [
    "# This Python 3 environment comes with many helpful analytics libraries installed\n",
    "# It is defined by the kaggle/python docker image: https://github.com/kaggle/docker-python\n",
    "# For example, here's several helpful packages to load in \n",
    "\n",
    "import numpy as np \n",
    "import pandas as pd\n",
    "from ortools.sat.python import cp_model\n",
    "\n",
    "\n",
    "family_data_path = './input/family_data.csv'\n",
    "submission_path = './input/sample_submission.csv'\n",
    "pd.set_option('display.max_rows', 500)"
   ]
  },
  {
   "cell_type": "code",
   "execution_count": 14,
   "metadata": {},
   "outputs": [],
   "source": [
    "def input_data():\n",
    "    input_family_data = pd.read_csv(family_data_path, index_col='family_id')\n",
    "    family_size = input_family_data.n_people.values.astype(np.int8)\n",
    "    family_choices = np.array(input_family_data[['choice_{}'.format(i) for i in range(10)]])\n",
    "    family_slots_matrix = np.zeros((5000, 100))\n",
    "    for fam in range(5000):\n",
    "        for choice in range(7):\n",
    "            family_slots_matrix[fam, family_choices[fam, choice]-1] = choice+1\n",
    "    return family_size, family_choices, family_slots_matrix"
   ]
  },
  {
   "cell_type": "code",
   "execution_count": 15,
   "metadata": {},
   "outputs": [],
   "source": [
    "class ObjectivePrinter(cp_model.CpSolverSolutionCallback):\n",
    "    def __init__(self):\n",
    "        cp_model.CpSolverSolutionCallback.__init__(self)\n",
    "        self.__solution_count = 0\n",
    "        self.__objective_goal = 1000000\n",
    "        \n",
    "    def on_solution_callback(self):\n",
    "        if self.__objective_goal < self.ObjectiveValue():\n",
    "            self.__set_objective_goal()\n",
    "            print('Solution %i, time = %f s, objective = %i' %\n",
    "                 self.__solution_count, self.WallTime(), self.ObjectiveValue())\n",
    "        self.__solution_count +=1\n",
    "        \n",
    "    def __set_objective_goal(self):\n",
    "        if self.__objective_goal > 200000:\n",
    "            self.__objective_goal -= 100000\n",
    "        elif self.__objective_goal > 100000:\n",
    "            self.__objective_goal -= 25000\n",
    "        elif self.__objective_goal > 90000:\n",
    "            self.__objective_goal -= 2000\n",
    "        else:\n",
    "            self.__objective_goal -= 1000"
   ]
  },
  {
   "cell_type": "code",
   "execution_count": 26,
   "metadata": {},
   "outputs": [],
   "source": [
    "family_size, family_choices, family_slots_matrix = input_data()"
   ]
  },
  {
   "cell_type": "code",
   "execution_count": 27,
   "metadata": {},
   "outputs": [
    {
     "data": {
      "text/plain": [
       "<ortools.sat.python.cp_model.Constraint at 0x13213ba90>"
      ]
     },
     "execution_count": 27,
     "metadata": {},
     "output_type": "execute_result"
    }
   ],
   "source": [
    "n_families = 5000\n",
    "n_days = 100\n",
    "n_slots = 9\n",
    "all_families = range(n_families)\n",
    "all_days = range(n_days)\n",
    "#     family_size, family_choices, family_slots_matrix = input_data()\n",
    "\n",
    "minutes_to_run = 1\n",
    "assign = {}\n",
    "n = {}\n",
    "\n",
    "model = cp_model.CpModel()\n",
    "\n",
    "for fam in all_families:\n",
    "    for day in all_days:\n",
    "        assign[(fam, day)] = model.NewBoolVar('x[%i][%i]' % (fam, day))\n",
    "\n",
    "for fam in all_families:\n",
    "    model.Add(sum(assign[(fam, day)] for day in all_days \n",
    "                  if family_slots_matrix[fam, day] > 0) == 1)\n",
    "    model.Add(sum(assign[(fam, day)] for day in all_days \n",
    "                  if family_slots_matrix[fam, day] == 0) == 0)\n",
    "\n",
    "for day in all_days:\n",
    "    n[day] = model.NewIntVar(125, 300, 'n[%i]' % day)\n",
    "    model.Add(n[day] == sum(assign[(fam, day)] * family_size[fam] for fam in all_families \n",
    "                  if family_slots_matrix[fam, day] > 0))\n",
    "n[n_days] = model.NewIntVar(125, 300, 'n[%i]' % n_days)\n",
    "model.Add(n[n_days] == n[n_days-1])\n",
    "    "
   ]
  },
  {
   "cell_type": "code",
   "execution_count": 58,
   "metadata": {},
   "outputs": [
    {
     "ename": "AttributeError",
     "evalue": "'CpModel' object has no attribute 'AddAbsEquality'",
     "output_type": "error",
     "traceback": [
      "\u001b[0;31m---------------------------------------------------------------------------\u001b[0m",
      "\u001b[0;31mAttributeError\u001b[0m                            Traceback (most recent call last)",
      "\u001b[0;32m<ipython-input-58-23386ae419b8>\u001b[0m in \u001b[0;36m<module>\u001b[0;34m()\u001b[0m\n\u001b[1;32m      5\u001b[0m     \u001b[0macc_cost\u001b[0m\u001b[0;34m[\u001b[0m\u001b[0mday\u001b[0m\u001b[0;34m]\u001b[0m \u001b[0;34m=\u001b[0m \u001b[0mmodel\u001b[0m\u001b[0;34m.\u001b[0m\u001b[0mNewIntVar\u001b[0m\u001b[0;34m(\u001b[0m\u001b[0;36m0\u001b[0m\u001b[0;34m,\u001b[0m \u001b[0;36m5000000\u001b[0m\u001b[0;34m,\u001b[0m \u001b[0;34m'acc_cost[%i]'\u001b[0m \u001b[0;34m%\u001b[0m \u001b[0mday\u001b[0m\u001b[0;34m)\u001b[0m\u001b[0;34m\u001b[0m\u001b[0m\n\u001b[1;32m      6\u001b[0m     \u001b[0mdiff\u001b[0m\u001b[0;34m[\u001b[0m\u001b[0mday\u001b[0m\u001b[0;34m]\u001b[0m \u001b[0;34m=\u001b[0m \u001b[0mmodel\u001b[0m\u001b[0;34m.\u001b[0m\u001b[0mNewIntVar\u001b[0m\u001b[0;34m(\u001b[0m\u001b[0;36m0\u001b[0m\u001b[0;34m,\u001b[0m \u001b[0;36m125\u001b[0m\u001b[0;34m,\u001b[0m \u001b[0;34m'diff[%i]'\u001b[0m \u001b[0;34m%\u001b[0m \u001b[0mday\u001b[0m\u001b[0;34m)\u001b[0m\u001b[0;34m\u001b[0m\u001b[0m\n\u001b[0;32m----> 7\u001b[0;31m     \u001b[0mmodel\u001b[0m\u001b[0;34m.\u001b[0m\u001b[0mAddAbsEquality\u001b[0m\u001b[0;34m(\u001b[0m\u001b[0mdiff\u001b[0m\u001b[0;34m[\u001b[0m\u001b[0mday\u001b[0m\u001b[0;34m]\u001b[0m\u001b[0;34m,\u001b[0m \u001b[0mn\u001b[0m\u001b[0;34m[\u001b[0m\u001b[0mday\u001b[0m\u001b[0;34m]\u001b[0m\u001b[0;34m-\u001b[0m\u001b[0mn\u001b[0m\u001b[0;34m[\u001b[0m\u001b[0mday\u001b[0m\u001b[0;34m+\u001b[0m\u001b[0;36m1\u001b[0m\u001b[0;34m]\u001b[0m\u001b[0;34m)\u001b[0m\u001b[0;34m\u001b[0m\u001b[0m\n\u001b[0m\u001b[1;32m      8\u001b[0m     \u001b[0mmodel\u001b[0m\u001b[0;34m.\u001b[0m\u001b[0mAddDivisionEquality\u001b[0m\u001b[0;34m(\u001b[0m\u001b[0macc_cost\u001b[0m\u001b[0;34m,\u001b[0m \u001b[0;34m(\u001b[0m\u001b[0mn\u001b[0m\u001b[0;34m[\u001b[0m\u001b[0mday\u001b[0m\u001b[0;34m]\u001b[0m \u001b[0;34m-\u001b[0m \u001b[0;36m125.0\u001b[0m\u001b[0;34m)\u001b[0m\u001b[0;34m,\u001b[0m \u001b[0mn\u001b[0m\u001b[0;34m[\u001b[0m\u001b[0mday\u001b[0m\u001b[0;34m]\u001b[0m \u001b[0;34m**\u001b[0m\u001b[0;34m(\u001b[0m\u001b[0;36m0.5\u001b[0m \u001b[0;34m+\u001b[0m \u001b[0mdiff\u001b[0m\u001b[0;34m[\u001b[0m\u001b[0mday\u001b[0m\u001b[0;34m]\u001b[0m \u001b[0;34m//\u001b[0m \u001b[0;36m50.0\u001b[0m\u001b[0;34m)\u001b[0m\u001b[0;34m)\u001b[0m\u001b[0;34m\u001b[0m\u001b[0m\n\u001b[1;32m      9\u001b[0m \u001b[0;34m\u001b[0m\u001b[0m\n",
      "\u001b[0;31mAttributeError\u001b[0m: 'CpModel' object has no attribute 'AddAbsEquality'"
     ]
    }
   ],
   "source": [
    "# 688,880,400\n",
    "acc_cost = {}\n",
    "diff = {}\n",
    "for day in all_days:\n",
    "    acc_cost[day] = model.NewIntVar(0, 5000000, 'acc_cost[%i]' % day)\n",
    "    diff[day] = model.NewIntVar(0, 125, 'diff[%i]' % day)\n",
    "    model.AddAbsEquality(diff[day], n[day]-n[day+1])\n",
    "    model.AddDivisionEquality(acc_cost, (n[day] - 125.0), n[day] **(0.5 + diff[day] // 50.0))\n",
    "\n",
    "model.Minimize(sum(acc_cost) + (\n",
    "        sum((0 * assign[(fam, family_choices[fam][0]-1)])\n",
    "        + (50 * assign[(fam, family_choices[fam][1]-1)])\n",
    "        + ((50 + 9 * family_size[fam]) * assign[(fam, family_choices[fam][2]-1)])\n",
    "        + ((100 + 9 * family_size[fam]) * assign[(fam, family_choices[fam][3]-1)])\n",
    "        + ((200 + 9 * family_size[fam]) * assign[(fam, family_choices[fam][4]-1)])\n",
    "        + ((200 + 18 * family_size[fam]) * assign[(fam, family_choices[fam][5]-1)])\n",
    "        + ((300 + 18 * family_size[fam]) * assign[(fam, family_choices[fam][6]-1)])\n",
    "                           for fam in all_families) * 10000)\n",
    "              )\n"
   ]
  },
  {
   "cell_type": "code",
   "execution_count": null,
   "metadata": {},
   "outputs": [],
   "source": []
  },
  {
   "cell_type": "code",
   "execution_count": null,
   "metadata": {},
   "outputs": [],
   "source": []
  },
  {
   "cell_type": "code",
   "execution_count": null,
   "metadata": {},
   "outputs": [],
   "source": []
  },
  {
   "cell_type": "code",
   "execution_count": 25,
   "metadata": {},
   "outputs": [
    {
     "ename": "KeyError",
     "evalue": "0",
     "output_type": "error",
     "traceback": [
      "\u001b[0;31m---------------------------------------------------------------------------\u001b[0m",
      "\u001b[0;31mKeyError\u001b[0m                                  Traceback (most recent call last)",
      "\u001b[0;32m<ipython-input-25-ff7864548408>\u001b[0m in \u001b[0;36m<module>\u001b[0;34m()\u001b[0m\n\u001b[1;32m     67\u001b[0m     \u001b[0;32mreturn\u001b[0m \u001b[0mstatus\u001b[0m\u001b[0;34m\u001b[0m\u001b[0m\n\u001b[1;32m     68\u001b[0m \u001b[0;34m\u001b[0m\u001b[0m\n\u001b[0;32m---> 69\u001b[0;31m \u001b[0msanta_solver\u001b[0m\u001b[0;34m(\u001b[0m\u001b[0;34m)\u001b[0m\u001b[0;34m\u001b[0m\u001b[0m\n\u001b[0m",
      "\u001b[0;32m<ipython-input-25-ff7864548408>\u001b[0m in \u001b[0;36msanta_solver\u001b[0;34m()\u001b[0m\n\u001b[1;32m     56\u001b[0m             \u001b[0;34m+\u001b[0m \u001b[0;34m(\u001b[0m\u001b[0;34m(\u001b[0m\u001b[0;36m200\u001b[0m \u001b[0;34m+\u001b[0m \u001b[0;36m18\u001b[0m \u001b[0;34m*\u001b[0m \u001b[0mfamily_size\u001b[0m\u001b[0;34m[\u001b[0m\u001b[0mfam\u001b[0m\u001b[0;34m]\u001b[0m\u001b[0;34m)\u001b[0m \u001b[0;34m*\u001b[0m \u001b[0massign\u001b[0m\u001b[0;34m[\u001b[0m\u001b[0mfam\u001b[0m\u001b[0;34m]\u001b[0m\u001b[0;34m[\u001b[0m\u001b[0mfamily_choices\u001b[0m\u001b[0;34m[\u001b[0m\u001b[0mfam\u001b[0m\u001b[0;34m]\u001b[0m\u001b[0;34m[\u001b[0m\u001b[0;36m5\u001b[0m\u001b[0;34m]\u001b[0m\u001b[0;34m-\u001b[0m\u001b[0;36m1\u001b[0m\u001b[0;34m]\u001b[0m\u001b[0;34m)\u001b[0m\u001b[0;34m\u001b[0m\u001b[0m\n\u001b[1;32m     57\u001b[0m             \u001b[0;34m+\u001b[0m \u001b[0;34m(\u001b[0m\u001b[0;34m(\u001b[0m\u001b[0;36m300\u001b[0m \u001b[0;34m+\u001b[0m \u001b[0;36m18\u001b[0m \u001b[0;34m*\u001b[0m \u001b[0mfamily_size\u001b[0m\u001b[0;34m[\u001b[0m\u001b[0mfam\u001b[0m\u001b[0;34m]\u001b[0m\u001b[0;34m)\u001b[0m \u001b[0;34m*\u001b[0m \u001b[0massign\u001b[0m\u001b[0;34m[\u001b[0m\u001b[0mfam\u001b[0m\u001b[0;34m]\u001b[0m\u001b[0;34m[\u001b[0m\u001b[0mfamily_choices\u001b[0m\u001b[0;34m[\u001b[0m\u001b[0mfam\u001b[0m\u001b[0;34m]\u001b[0m\u001b[0;34m[\u001b[0m\u001b[0;36m6\u001b[0m\u001b[0;34m]\u001b[0m\u001b[0;34m-\u001b[0m\u001b[0;36m1\u001b[0m\u001b[0;34m]\u001b[0m\u001b[0;34m)\u001b[0m\u001b[0;34m\u001b[0m\u001b[0m\n\u001b[0;32m---> 58\u001b[0;31m                                for fam in all_families)\\\n\u001b[0m\u001b[1;32m     59\u001b[0m                     + sum([max(0, (n[day] - 125.0) / 400.0 * n[day] **(0.5 + n[day+1] / 50.0))]\n\u001b[1;32m     60\u001b[0m                               for day in range(n_days-1)))\n",
      "\u001b[0;32m<ipython-input-25-ff7864548408>\u001b[0m in \u001b[0;36m<genexpr>\u001b[0;34m(.0)\u001b[0m\n\u001b[1;32m     56\u001b[0m             \u001b[0;34m+\u001b[0m \u001b[0;34m(\u001b[0m\u001b[0;34m(\u001b[0m\u001b[0;36m200\u001b[0m \u001b[0;34m+\u001b[0m \u001b[0;36m18\u001b[0m \u001b[0;34m*\u001b[0m \u001b[0mfamily_size\u001b[0m\u001b[0;34m[\u001b[0m\u001b[0mfam\u001b[0m\u001b[0;34m]\u001b[0m\u001b[0;34m)\u001b[0m \u001b[0;34m*\u001b[0m \u001b[0massign\u001b[0m\u001b[0;34m[\u001b[0m\u001b[0mfam\u001b[0m\u001b[0;34m]\u001b[0m\u001b[0;34m[\u001b[0m\u001b[0mfamily_choices\u001b[0m\u001b[0;34m[\u001b[0m\u001b[0mfam\u001b[0m\u001b[0;34m]\u001b[0m\u001b[0;34m[\u001b[0m\u001b[0;36m5\u001b[0m\u001b[0;34m]\u001b[0m\u001b[0;34m-\u001b[0m\u001b[0;36m1\u001b[0m\u001b[0;34m]\u001b[0m\u001b[0;34m)\u001b[0m\u001b[0;34m\u001b[0m\u001b[0m\n\u001b[1;32m     57\u001b[0m             \u001b[0;34m+\u001b[0m \u001b[0;34m(\u001b[0m\u001b[0;34m(\u001b[0m\u001b[0;36m300\u001b[0m \u001b[0;34m+\u001b[0m \u001b[0;36m18\u001b[0m \u001b[0;34m*\u001b[0m \u001b[0mfamily_size\u001b[0m\u001b[0;34m[\u001b[0m\u001b[0mfam\u001b[0m\u001b[0;34m]\u001b[0m\u001b[0;34m)\u001b[0m \u001b[0;34m*\u001b[0m \u001b[0massign\u001b[0m\u001b[0;34m[\u001b[0m\u001b[0mfam\u001b[0m\u001b[0;34m]\u001b[0m\u001b[0;34m[\u001b[0m\u001b[0mfamily_choices\u001b[0m\u001b[0;34m[\u001b[0m\u001b[0mfam\u001b[0m\u001b[0;34m]\u001b[0m\u001b[0;34m[\u001b[0m\u001b[0;36m6\u001b[0m\u001b[0;34m]\u001b[0m\u001b[0;34m-\u001b[0m\u001b[0;36m1\u001b[0m\u001b[0;34m]\u001b[0m\u001b[0;34m)\u001b[0m\u001b[0;34m\u001b[0m\u001b[0m\n\u001b[0;32m---> 58\u001b[0;31m                                for fam in all_families)\\\n\u001b[0m\u001b[1;32m     59\u001b[0m                     + sum([max(0, (n[day] - 125.0) / 400.0 * n[day] **(0.5 + n[day+1] / 50.0))]\n\u001b[1;32m     60\u001b[0m                               for day in range(n_days-1)))\n",
      "\u001b[0;31mKeyError\u001b[0m: 0"
     ]
    }
   ],
   "source": [
    "def santa_solver():\n",
    "    n_families = 5000\n",
    "    n_days = 100\n",
    "    n_slots = 9\n",
    "    all_families = range(n_families)\n",
    "    all_days = range(n_days)\n",
    "#     family_size, family_choices, family_slots_matrix = input_data()\n",
    "\n",
    "    minutes_to_run = 1\n",
    "    assign = {}\n",
    "    n = {}\n",
    "    \n",
    "    model = cp_model.CpModel()\n",
    "\n",
    "    for fam in all_families:\n",
    "        for day in all_days:\n",
    "            assign[(fam, day)] = model.NewBoolVar('x[%i][%i]' % (fam, day))\n",
    "            \n",
    "    for fam in all_families:\n",
    "        model.Add(sum(assign[(fam, day)] for day in all_days \n",
    "                      if family_slots_matrix[fam, day] > 0) == 1)\n",
    "        model.Add(sum(assign[(fam, day)] for day in all_days \n",
    "                      if family_slots_matrix[fam, day] == 0) == 0)\n",
    "    \n",
    "    for day in all_days:\n",
    "        n[day] = model.NewIntVar(125, 300, 'n[%i]' % day)\n",
    "        model.Add(n[day] == sum(assign[(fam, day)] * family_size[fam] for fam in all_families \n",
    "                      if family_slots_matrix[fam, day] > 0))\n",
    "    n[n_days] = model.NewIntVar(125, 300, 'n[%i]' % n_days)\n",
    "    model.Add(n[n_days] == n[n_days-1])\n",
    "    \n",
    "#         model.Add(n[day] >= 125)\n",
    "#         model.Add(n[day] <= 300)\n",
    "#         model.Add(sum(assign[(fam, day)] * family_size[fam] for fam in all_families \n",
    "#                       if family_slots_matrix[fam, day] > 0) >= 125)\n",
    "#         model.Add(sum(assign[(fam, day)] * family_size[fam] for fam in all_families \n",
    "#                       if family_slots_matrix[fam, day] > 0) <= 300)\n",
    "    \n",
    "#     pref_cost = sum((0 * x[fam][family_choices[fam][0]])\n",
    "#             + (50 * x[fam][family_choices[fam][1]])\n",
    "#             + ((50 + 9 * family_size[fam]) * x[fam][family_choices[fam][2]])\n",
    "#             + ((100 + 9 * family_size[fam]) * x[fam][family_choices[fam][3]])\n",
    "#             + ((200 + 9 * family_size[fam]) * x[fam][family_choices[fam][4]])\n",
    "#             + ((200 + 18 * family_size[fam]) * x[fam][family_choices[fam][5]])\n",
    "#             + ((300 + 18 * family_size[fam]) * x[fam][family_choices[fam][6]])\n",
    "#                                for fam in all_families)\n",
    "#     model.Add(acc_cost == sum([max(0, (n[day] - 125.0) / 400.0 * n[day] **(0.5 + n[day+1] / 50.0))]\n",
    "#                               for day in range(n_days-1)))\n",
    "    \n",
    "    \n",
    "    model.Minimize(sum((0 * assign[fam][family_choices[fam][0]-1])\n",
    "            + (50 * assign[fam][family_choices[fam][1]-1])\n",
    "            + ((50 + 9 * family_size[fam]) * assign[fam][family_choices[fam][2]-1])\n",
    "            + ((100 + 9 * family_size[fam]) * assign[fam][family_choices[fam][3]-1])\n",
    "            + ((200 + 9 * family_size[fam]) * assign[fam][family_choices[fam][4]-1])\n",
    "            + ((200 + 18 * family_size[fam]) * assign[fam][family_choices[fam][5]-1])\n",
    "            + ((300 + 18 * family_size[fam]) * assign[fam][family_choices[fam][6]-1])\n",
    "                               for fam in all_families)\\\n",
    "                    + sum([max(0, (n[day] - 125.0) / 400.0 * n[day] **(0.5 + n[day+1] / 50.0))]\n",
    "                              for day in range(n_days-1)))\n",
    "    \n",
    "    solver = cp_model.CpSolver()\n",
    "\n",
    "    \n",
    "    solver.parameters.max_time_in_seconds = minutes_to_run * 60.0\n",
    "    solution_printer = ObjectivePrinter()                \n",
    "    status = solver.SolveWithSolutionCallback(model, solution_printer)\n",
    "    return status\n",
    "\n",
    "santa_solver()"
   ]
  },
  {
   "cell_type": "code",
   "execution_count": null,
   "metadata": {},
   "outputs": [],
   "source": []
  }
 ],
 "metadata": {
  "kernelspec": {
   "display_name": "Python 3",
   "language": "python",
   "name": "python3"
  },
  "language_info": {
   "codemirror_mode": {
    "name": "ipython",
    "version": 3
   },
   "file_extension": ".py",
   "mimetype": "text/x-python",
   "name": "python",
   "nbconvert_exporter": "python",
   "pygments_lexer": "ipython3",
   "version": "3.5.6"
  }
 },
 "nbformat": 4,
 "nbformat_minor": 2
}
